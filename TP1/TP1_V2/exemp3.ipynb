{
 "cells": [
  {
   "cell_type": "code",
   "execution_count": 13,
   "metadata": {},
   "outputs": [
    {
     "name": "stdout",
     "output_type": "stream",
     "text": [
      "[1.5695652173913042, 1.5039130434782613, 1.4694999999999996, 1.4786086956521622] \n",
      " [0.060283553875236304, 0.09280132325141775, 0.0782545326086956, 0.07909732703213732]\n"
     ]
    },
    {
     "data": {
      "image/png": "[encoded data removed]",
      "text/plain": [
       "<Figure size 432x288 with 1 Axes>"
      ]
     },
     "metadata": {
      "needs_background": "light"
     },
     "output_type": "display_data"
    }
   ],
   "source": [
    "\"\"\"\n",
    "                    Importation des bibliothéques\n",
    "        \n",
    "\"\"\"\n",
    "\n",
    "import matplotlib.pyplot as plt # bibliothéque pour afficher les figures\n",
    "from scipy.stats import randint  # bibliothéque pour génerer une distribution discréte\n",
    "import numpy as np # bibliothéque pour la création d'axe des x\n",
    "\n",
    "\"\"\"\n",
    "                    Déclarations des fonctions qu'on va utiliser \n",
    "\n",
    "\"\"\"\n",
    "\n",
    "def gen_tabel(b,c,n): # Focntion qui va fénérer les valeurs xn \n",
    "    \n",
    "    a=[] # intialisation d'un tableau vide dans lequelle on va stocker les xn\n",
    "    x=randint.rvs(b,c,size=n) #génerer une distrubtion discréte uniforme\n",
    "    for i in x: # boucle for qui va calculer les xn selon les contraintes de la fonction f\n",
    "        if i<b: # premier condition si x<a\n",
    "            a.append(0) # f(x) = 0\n",
    "        elif i>= b and i<c: # si a =< x < b\n",
    "            a.append((1+(i-b)/(c-b+1))) # f(x) = valuer a calculé\n",
    "        elif i>=c: # si x >= b\n",
    "            a.append(1) # f(x) = 1\n",
    "        \n",
    "    return a # retourner le resultat finale de a aprés calcule des xn\n",
    "              \n",
    "def moy_emp(a,n) : # fonction qui calcule la moyenne empérique\n",
    "    \n",
    "    x=0 # determiner n le nombre totale des xn dans a\n",
    "    for j in a:# calcule de Xn barre et retourner la valeur de Xn barre finale\n",
    "        x+=j\n",
    "    return x/n\n",
    "\n",
    "def var_emp(a,xn_,n): # fonction qui calcule la variance empérique\n",
    "    var=0\n",
    "    for i in a:\n",
    "        var+=(i-xn_)**2 # formule qui calcule la variance avec xn_ est la moyenne empérique\n",
    "    return var/n # suite de la formule de la variance\n",
    "\n",
    "\"\"\"\n",
    "                    paramétres de la distrubition\n",
    "\n",
    "\"\"\"\n",
    "\n",
    "n=[10,100,1000,10000] # differents valeurs de n: nombre des échantillons\n",
    "a=5 # differents valeurs de a\n",
    "b=50 # differents valeurs de b\n",
    "Xn=[] # intialisation d'un tableau pour stocker les valeur de la moyenne calculer\n",
    "teta=[] # intialisation d'un tableau pour stocker les valeur de la variance calculer\n",
    "\n",
    "w=np.linspace(0,n, num=len(n)) # calcul d'axe des x\n",
    "\n",
    "for i in n: # boucle for dans la quelle on va varier a et b et calculer la moyenne et la varinca respectivement\n",
    "    t=gen_tabel(a,b,i) # génération d'une table avec n variable alétoire entre a et b d\n",
    "    Xn.append(moy_emp(t,i)) # calcule de la moyenne empérique\n",
    "    teta.append(var_emp(t,moy_emp(t,i),i)) # calcule de la variance empérique\n",
    "\n",
    "print(Xn,\"\\n\",teta) # affichage de la moyenne et la varince avec un retour à la ligne entre chaque valeur\n",
    "\n",
    "\"\"\"\n",
    "                    Affichage des Figuers\n",
    "\n",
    "\"\"\"\n",
    "\n",
    "plt.plot(n,teta,color=\"red\",label=\"Variance empérique\") # dessinier téta en focntion de n avec la couleur Rouge\n",
    "plt.plot(n,Xn,color=\"green\",label=\"Moyenne empérique\") # dessinier Xn barre en fonction de n avec la couleur Vert\n",
    "plt.xlabel(\"Nombre d'echantillon\")\n",
    "plt.ylabel(\"Variables aléatoires\")\n",
    "plt.title(\"Courbe de la moyenne empérique et la variance empérique\")\n",
    "plt.legend()\n",
    "plt.grid() # grid la figure\n",
    "plt.show() # affichier la figure"
   ]
  },
  {
   "cell_type": "code",
   "execution_count": 11,
   "metadata": {},
   "outputs": [
    {
     "name": "stdout",
     "output_type": "stream",
     "text": [
      "La valeur de la moyenne empérique est égalle à 1.4825043478260866\n"
     ]
    }
   ],
   "source": [
    "t=gen_tabel(a,b,n[3]) # génération d'un tableau t qui va stocker les xn\n",
    "Xn=moy_emp(t,i) # calcule des différents valeurs Xn barre est les stocker dans Xn[]\n",
    "print(\"La valeur de la moyenne empérique est égalle à\",Xn)"
   ]
  },
  {
   "cell_type": "code",
   "execution_count": 12,
   "metadata": {},
   "outputs": [
    {
     "name": "stdout",
     "output_type": "stream",
     "text": [
      "La valeur de la variance empérique est égalle à 0.07994484733459353\n"
     ]
    }
   ],
   "source": [
    "teta=var_emp(t,moy_emp(t,n[3]),n[3]) # calcule des différentes valeurs de la variance est les stocker dans téta[]\n",
    "print(\"La valeur de la variance empérique est égalle à\",teta)"
   ]
  },
  {
   "cell_type": "code",
   "execution_count": null,
   "metadata": {},
   "outputs": [],
   "source": []
  }
 ],
 "metadata": {
  "kernelspec": {
   "display_name": "Python 3",
   "language": "python",
   "name": "python3"
  },
  "language_info": {
   "codemirror_mode": {
    "name": "ipython",
    "version": 3
   },
   "file_extension": ".py",
   "mimetype": "text/x-python",
   "name": "python",
   "nbconvert_exporter": "python",
   "pygments_lexer": "ipython3",
   "version": "3.8.3"
  }
 },
 "nbformat": 4,
 "nbformat_minor": 4
}
