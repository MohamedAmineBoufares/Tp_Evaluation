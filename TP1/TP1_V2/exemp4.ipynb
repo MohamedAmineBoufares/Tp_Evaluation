{
 "cells": [
  {
   "cell_type": "code",
   "execution_count": 14,
   "metadata": {},
   "outputs": [
    {
     "name": "stdout",
     "output_type": "stream",
     "text": [
      "[2.4, 3.36, 3.442, 3.4158] \n",
      " [8.64, 6.7104000000000035, 7.396636000000111, 7.233510360000878]\n"
     ]
    },
    {
     "data": {
      "image/png": "[encoded data removed]",
      "text/plain": [
       "<Figure size 432x288 with 1 Axes>"
      ]
     },
     "metadata": {
      "needs_background": "light"
     },
     "output_type": "display_data"
    }
   ],
   "source": [
    "\"\"\"\n",
    "                    Importation des bibliothéques\n",
    "        \n",
    "\"\"\"\n",
    "\n",
    "import matplotlib.pyplot as plt # bibliothéque pour afficher les figures\n",
    "import random  # bibliothéque pour génerer une distribution discréte entre [0,1]\n",
    "import numpy as np # bibliothéque pour la création d'axe des x\n",
    "\n",
    "\"\"\"\n",
    "                    Déclarations des fonctions qu'on va utiliser \n",
    "\n",
    "\"\"\"\n",
    "\n",
    "def gen_tabel(n): # Focntion qui va fénérer les valeurs xn \n",
    "    x=[]\n",
    "    a=[] # intialisation d'un tableau vide dans lequelle on va stocker les xn\n",
    "    for i in range(n):\n",
    "        x.append(random.uniform(0,1)) #génerer une distrubtion discréte uniforme entre [0,1] avec n echantillon\n",
    "    for i in x: # boucle for qui va calculer les xn selon les contraintes de la fonction f\n",
    "        if i<0.3: # premier condition si x<0.3\n",
    "            a.append(0) # f(x) = 0\n",
    "        elif i>= 0.3 and i<0.5: # si 0.3 =< x < 0.5\n",
    "            a.append(2) # f(x) = 2\n",
    "        elif i>=0.5: # si x >= 0.5\n",
    "            a.append(6) # f(x) = 6\n",
    "        \n",
    "    return a # retourner le resultat finale de a aprés calcule des xn\n",
    "              \n",
    "              \n",
    "def moy_emp(a,n) : # fonction qui calcule la moyenne empérique\n",
    "    \n",
    "    x=0 # determiner n le nombre totale des xn dans a\n",
    "    for j in a:# calcule de Xn barre et retourner la valeur de Xn barre finale\n",
    "        x+=j\n",
    "    return x/n\n",
    "\n",
    "def var_emp(a,xn_,n): # fonction qui calcule la variance empérique\n",
    "    var=0\n",
    "    for i in a:\n",
    "        var+=(i-xn_)**2 # formule qui calcule la variance avec xn_ est la moyenne empérique\n",
    "    return var/n # suite de la formule de la variance\n",
    "\"\"\"\n",
    "                    paramétres de la distrubition\n",
    "\n",
    "\"\"\"\n",
    "\n",
    "n=[10,100,1000,10000] # differents valeurs de n: nombre des échantillons\n",
    "teta=[] # intialisation du tableau qui va stocker les valeurs de la variance\n",
    "Xn=[] # intialisation du tableau qui va stocker les valeurs de la moyenne\n",
    "\n",
    "for i in n: # boucle qui va parcourir les differents valeurs de n\n",
    "    t=gen_tabel(i) # génération d'un tableau t qui va stocker les xn\n",
    "    Xn.append(moy_emp(t,i)) # calcule des différents valeurs Xn barre est les stocker dans Xn[]\n",
    "    teta.append(var_emp(t,moy_emp(t,i),i)) # calcule des différentes valeurs de la variance est les stocker dans téta[]\n",
    "print(Xn,\"\\n\",teta) # affichage de Xn barre et téta\n",
    "\n",
    "\"\"\"\n",
    "                    Affichage des Figuers\n",
    "\n",
    "\"\"\"\n",
    "\n",
    "plt.plot(n,teta,color=\"red\",label=\"Variance empérique\") # dessinier téta en focntion de n avec la couleur Rouge\n",
    "plt.plot(n,Xn,color=\"green\",label=\"Moyenne empérique\") # dessinier Xn barre en fonction de n avec la couleur Vert\n",
    "plt.xlabel(\"Nombre d'echantillon\")\n",
    "plt.ylabel(\"Variables aléatoires\")\n",
    "plt.title(\"Courbe de la moyenne empérique et la variance empérique\")\n",
    "plt.legend()\n",
    "plt.grid() # grid la figure\n",
    "plt.show() # affichier la figure"
   ]
  },
  {
   "cell_type": "code",
   "execution_count": 12,
   "metadata": {},
   "outputs": [
    {
     "name": "stdout",
     "output_type": "stream",
     "text": [
      "La valeur de la moyenne empérique est égalle à 3.3978\n"
     ]
    }
   ],
   "source": [
    "t=gen_tabel(n[3]) # génération d'un tableau t qui va stocker les xn\n",
    "Xn=moy_emp(t,i) # calcule des différents valeurs Xn barre est les stocker dans Xn[]\n",
    "print(\"La valeur de la moyenne empérique est égalle à\",Xn)"
   ]
  },
  {
   "cell_type": "code",
   "execution_count": 13,
   "metadata": {},
   "outputs": [
    {
     "name": "stdout",
     "output_type": "stream",
     "text": [
      "La valeur de la variance empérique est égalle à 7.257755159999542\n"
     ]
    }
   ],
   "source": [
    "teta=var_emp(t,moy_emp(t,n[3]),n[3]) # calcule des différentes valeurs de la variance est les stocker dans téta[]\n",
    "print(\"La valeur de la variance empérique est égalle à\",teta)"
   ]
  },
  {
   "cell_type": "code",
   "execution_count": null,
   "metadata": {},
   "outputs": [],
   "source": []
  }
 ],
 "metadata": {
  "kernelspec": {
   "display_name": "Python 3",
   "language": "python",
   "name": "python3"
  },
  "language_info": {
   "codemirror_mode": {
    "name": "ipython",
    "version": 3
   },
   "file_extension": ".py",
   "mimetype": "text/x-python",
   "name": "python",
   "nbconvert_exporter": "python",
   "pygments_lexer": "ipython3",
   "version": "3.8.3"
  }
 },
 "nbformat": 4,
 "nbformat_minor": 4
}
